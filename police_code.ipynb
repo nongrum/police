{
  "cells": [
    {
      "cell_type": "code",
      "source": [
        "from google.colab import drive\n",
        "drive.mount('/content/drive')"
      ],
      "metadata": {
        "colab": {
          "base_uri": "https://localhost:8080/",
          "height": 0
        },
        "id": "6E1MJ9rQCQJ9",
        "outputId": "fd8865d9-28d2-4cc0-fca7-2a50d9bf9ee2"
      },
      "execution_count": 2,
      "outputs": [
        {
          "output_type": "stream",
          "name": "stdout",
          "text": [
            "Drive already mounted at /content/drive; to attempt to forcibly remount, call drive.mount(\"/content/drive\", force_remount=True).\n"
          ]
        }
      ]
    },
    {
      "cell_type": "code",
      "source": [
        "import pandas as pd\n",
        "path=\"/content/drive/MyDrive/Police Data.csv\"\n",
        "df = pd.read_csv(path)"
      ],
      "metadata": {
        "id": "n4I2hnlcCkJC"
      },
      "execution_count": 3,
      "outputs": []
    },
    {
      "cell_type": "code",
      "source": [
        "print(df.head())"
      ],
      "metadata": {
        "colab": {
          "base_uri": "https://localhost:8080/",
          "height": 0
        },
        "id": "6Nt1IyosC4z6",
        "outputId": "b01c691f-b5d1-4c1a-e881-2627e8ce0732"
      },
      "execution_count": 4,
      "outputs": [
        {
          "output_type": "stream",
          "name": "stdout",
          "text": [
            "   stop_date stop_time  country_name driver_gender  driver_age_raw  \\\n",
            "0   1/2/2005      1:55           NaN             M          1985.0   \n",
            "1  1/18/2005      8:15           NaN             M          1965.0   \n",
            "2  1/23/2005     23:15           NaN             M          1972.0   \n",
            "3  2/20/2005     17:15           NaN             M          1986.0   \n",
            "4  3/14/2005     10:00           NaN             F          1984.0   \n",
            "\n",
            "   driver_age driver_race     violation_raw violation  search_conducted  \\\n",
            "0        20.0       White          Speeding  Speeding             False   \n",
            "1        40.0       White          Speeding  Speeding             False   \n",
            "2        33.0       White          Speeding  Speeding             False   \n",
            "3        19.0       White  Call for Service     Other             False   \n",
            "4        21.0       White          Speeding  Speeding             False   \n",
            "\n",
            "  search_type   stop_outcome is_arrested stop_duration  drugs_related_stop  \n",
            "0         NaN       Citation       False      0-15 Min               False  \n",
            "1         NaN       Citation       False      0-15 Min               False  \n",
            "2         NaN       Citation       False      0-15 Min               False  \n",
            "3         NaN  Arrest Driver        True     16-30 Min               False  \n",
            "4         NaN       Citation       False      0-15 Min               False  \n"
          ]
        }
      ]
    },
    {
      "cell_type": "code",
      "source": [
        "print(df.isnull( ).sum( ) )"
      ],
      "metadata": {
        "colab": {
          "base_uri": "https://localhost:8080/",
          "height": 0
        },
        "id": "vNaOXZXuEGwe",
        "outputId": "6995e153-8c06-4864-b129-eedcc4e2e136"
      },
      "execution_count": 7,
      "outputs": [
        {
          "output_type": "stream",
          "name": "stdout",
          "text": [
            "stop_date                 0\n",
            "stop_time                 0\n",
            "country_name          65535\n",
            "driver_gender          4061\n",
            "driver_age_raw         4054\n",
            "driver_age             4307\n",
            "driver_race            4060\n",
            "violation_raw          4060\n",
            "violation              4060\n",
            "search_conducted          0\n",
            "search_type           63056\n",
            "stop_outcome           4060\n",
            "is_arrested            4060\n",
            "stop_duration          4060\n",
            "drugs_related_stop        0\n",
            "dtype: int64\n"
          ]
        }
      ]
    },
    {
      "cell_type": "code",
      "source": [
        "data_cl=df.drop(\"country_name\",axis=1)\n",
        "data_cl2=df.drop(\"search_type\",axis=1)\n",
        "print(data_cl)"
      ],
      "metadata": {
        "colab": {
          "base_uri": "https://localhost:8080/",
          "height": 0
        },
        "id": "L8aHYxIfErmq",
        "outputId": "64998a9b-e8a8-428b-c013-eebfe32c0dcd"
      },
      "execution_count": 10,
      "outputs": [
        {
          "output_type": "stream",
          "name": "stdout",
          "text": [
            "       stop_date stop_time driver_gender  driver_age_raw  driver_age  \\\n",
            "0       1/2/2005      1:55             M          1985.0        20.0   \n",
            "1      1/18/2005      8:15             M          1965.0        40.0   \n",
            "2      1/23/2005     23:15             M          1972.0        33.0   \n",
            "3      2/20/2005     17:15             M          1986.0        19.0   \n",
            "4      3/14/2005     10:00             F          1984.0        21.0   \n",
            "...          ...       ...           ...             ...         ...   \n",
            "65530  12/6/2012     17:54             F          1987.0        25.0   \n",
            "65531  12/6/2012     22:22             M          1954.0        58.0   \n",
            "65532  12/6/2012     23:20             M          1985.0        27.0   \n",
            "65533  12/7/2012      0:23           NaN             NaN         NaN   \n",
            "65534  12/7/2012      0:30             F          1985.0        27.0   \n",
            "\n",
            "      driver_race                   violation_raw  violation  \\\n",
            "0           White                        Speeding   Speeding   \n",
            "1           White                        Speeding   Speeding   \n",
            "2           White                        Speeding   Speeding   \n",
            "3           White                Call for Service      Other   \n",
            "4           White                        Speeding   Speeding   \n",
            "...           ...                             ...        ...   \n",
            "65530       White                        Speeding   Speeding   \n",
            "65531       White                        Speeding   Speeding   \n",
            "65532       Black  Equipment/Inspection Violation  Equipment   \n",
            "65533         NaN                             NaN        NaN   \n",
            "65534       White                        Speeding   Speeding   \n",
            "\n",
            "       search_conducted search_type   stop_outcome is_arrested stop_duration  \\\n",
            "0                 False         NaN       Citation       False      0-15 Min   \n",
            "1                 False         NaN       Citation       False      0-15 Min   \n",
            "2                 False         NaN       Citation       False      0-15 Min   \n",
            "3                 False         NaN  Arrest Driver        True     16-30 Min   \n",
            "4                 False         NaN       Citation       False      0-15 Min   \n",
            "...                 ...         ...            ...         ...           ...   \n",
            "65530             False         NaN       Citation       False      0-15 Min   \n",
            "65531             False         NaN        Warning       False      0-15 Min   \n",
            "65532             False         NaN       Citation       False      0-15 Min   \n",
            "65533             False         NaN            NaN         NaN           NaN   \n",
            "65534             False         NaN       Citation       False      0-15 Min   \n",
            "\n",
            "       drugs_related_stop  \n",
            "0                   False  \n",
            "1                   False  \n",
            "2                   False  \n",
            "3                   False  \n",
            "4                   False  \n",
            "...                   ...  \n",
            "65530               False  \n",
            "65531               False  \n",
            "65532               False  \n",
            "65533               False  \n",
            "65534               False  \n",
            "\n",
            "[65535 rows x 14 columns]\n"
          ]
        }
      ]
    },
    {
      "cell_type": "code",
      "source": [
        "speeding_count=df[df[\"violation\"]==\"Speeding\"][\"driver_gender\"].value_counts()\n",
        "print(speeding_count)"
      ],
      "metadata": {
        "colab": {
          "base_uri": "https://localhost:8080/",
          "height": 0
        },
        "id": "Akv3-JQ9FIKL",
        "outputId": "85e4e339-4515-4b31-9f66-7da14802196b"
      },
      "execution_count": 11,
      "outputs": [
        {
          "output_type": "stream",
          "name": "stdout",
          "text": [
            "M    25517\n",
            "F    11686\n",
            "Name: driver_gender, dtype: int64\n"
          ]
        }
      ]
    },
    {
      "cell_type": "code",
      "source": [
        "gender_comp=df.groupby(\"driver_gender\")[\"search_conducted\"].value_counts()\n",
        "print(gender_comp)"
      ],
      "metadata": {
        "colab": {
          "base_uri": "https://localhost:8080/",
          "height": 0
        },
        "id": "lAVW3rhKFUkX",
        "outputId": "09bf85a5-4c52-4671-d3ae-40c51b459e4d"
      },
      "execution_count": 12,
      "outputs": [
        {
          "output_type": "stream",
          "name": "stdout",
          "text": [
            "driver_gender  search_conducted\n",
            "F              False               15944\n",
            "               True                  366\n",
            "M              False               43051\n",
            "               True                 2113\n",
            "Name: search_conducted, dtype: int64\n"
          ]
        }
      ]
    },
    {
      "cell_type": "code",
      "source": [
        "df[\"stop_duration\"]=df[\"stop_duration\"].map({\"0-15 Min\":7.5,\"16-30 Min\":23,\"30+ Min\":45})\n",
        "df['stop_duration']=pd.to_numeric(df['stop_duration'],errors=\"coerce\")\n",
        "mean_stop_duration=df['stop_duration'].mean()\n",
        "print(mean_stop_duration)"
      ],
      "metadata": {
        "colab": {
          "base_uri": "https://localhost:8080/",
          "height": 0
        },
        "id": "AELTnAYWF6qL",
        "outputId": "2dc66a45-66ae-4198-aad7-578df9776ace"
      },
      "execution_count": 15,
      "outputs": [
        {
          "output_type": "stream",
          "name": "stdout",
          "text": [
            "nan\n"
          ]
        }
      ]
    },
    {
      "cell_type": "code",
      "source": [
        "age_dis=df.groupby(\"violation\")[\"driver_age\"].describe()\n",
        "print(age_dis)"
      ],
      "metadata": {
        "colab": {
          "base_uri": "https://localhost:8080/",
          "height": 0
        },
        "id": "nv_eEpVaGFaf",
        "outputId": "5220810d-02bb-4023-b63f-72a34fa2f416"
      },
      "execution_count": 16,
      "outputs": [
        {
          "output_type": "stream",
          "name": "stdout",
          "text": [
            "                       count       mean        std   min   25%   50%   75%  \\\n",
            "violation                                                                    \n",
            "Equipment             6507.0  31.682957  11.380671  16.0  23.0  28.0  39.0   \n",
            "Moving violation     11876.0  36.736443  13.258350  15.0  25.0  35.0  47.0   \n",
            "Other                 3477.0  40.362381  12.754423  16.0  30.0  41.0  50.0   \n",
            "Registration/plates   2240.0  32.656696  11.150780  16.0  24.0  30.0  40.0   \n",
            "Seat belt                3.0  30.333333  10.214369  23.0  24.5  26.0  34.0   \n",
            "Speeding             37120.0  33.262581  12.615781  15.0  23.0  30.0  42.0   \n",
            "\n",
            "                      max  \n",
            "violation                  \n",
            "Equipment            81.0  \n",
            "Moving violation     86.0  \n",
            "Other                86.0  \n",
            "Registration/plates  74.0  \n",
            "Seat belt            42.0  \n",
            "Speeding             88.0  \n"
          ]
        }
      ]
    }
  ],
  "metadata": {
    "colab": {
      "name": "Welcome To Colaboratory",
      "provenance": []
    },
    "kernelspec": {
      "display_name": "Python 3",
      "name": "python3"
    }
  },
  "nbformat": 4,
  "nbformat_minor": 0
}